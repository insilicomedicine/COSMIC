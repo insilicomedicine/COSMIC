{
 "cells": [
  {
   "cell_type": "code",
   "execution_count": null,
   "id": "supposed-belfast",
   "metadata": {},
   "outputs": [],
   "source": [
    "import sys\n",
    "sys.path.append('..')\n",
    "import os"
   ]
  },
  {
   "cell_type": "code",
   "execution_count": null,
   "id": "owned-occupation",
   "metadata": {},
   "outputs": [],
   "source": [
    "from energy_minimization.data import ConfDataset\n",
    "from energy_minimization.utils.utils import (add_prop, compute_alligment,\n",
    "                                             get_energy, set_conformer,\n",
    "                                             compute_desciptors3d)"
   ]
  },
  {
   "cell_type": "code",
   "execution_count": null,
   "id": "embedded-antigua",
   "metadata": {},
   "outputs": [],
   "source": [
    "from energy_minimization.models import COSMIC"
   ]
  },
  {
   "cell_type": "code",
   "execution_count": null,
   "id": "classical-flash",
   "metadata": {},
   "outputs": [],
   "source": [
    "path_to_data = '/path/to/data'"
   ]
  },
  {
   "cell_type": "code",
   "execution_count": null,
   "id": "legitimate-track",
   "metadata": {},
   "outputs": [],
   "source": [
    "import torch\n",
    "from torch_geometric.data import DataLoader, Batch\n",
    "\n",
    "dl = DataLoader(\n",
    "        ConfDataset(path_to_data,\n",
    "                    os.path.join(path_to_data, 'summary_qm9_preprocessed.json'),\n",
    "                    split='test',\n",
    "                    conditions='none',\n",
    "                    task_type='argmin'),\n",
    "        batch_size=128, num_workers=1)"
   ]
  },
  {
   "cell_type": "code",
   "execution_count": null,
   "id": "southern-guitar",
   "metadata": {},
   "outputs": [],
   "source": [
    "device = 'cpu'"
   ]
  },
  {
   "cell_type": "code",
   "execution_count": null,
   "id": "f98893d0-300e-408f-bc25-125e4796633a",
   "metadata": {},
   "outputs": [],
   "source": [
    "model_params = {'latent_size': 3,\n",
    "                'node_hidden_size': 128,\n",
    "                'edge_hidden_size': 64,\n",
    "                'num_gaussians': 64,\n",
    "                'num_backbone_layers': 4,\n",
    "                'num_main_layers': 6,\n",
    "                'num_refiner_steps': 10,\n",
    "                'lambda_cosloss': 0.5,\n",
    "                'lambda_mxloss': 1.0,\n",
    "                'wgan_energy_loss_coeff': 0.1,\n",
    "                'ae_num_encoder_layers': 4,\n",
    "\n",
    "                'vae_kl_beta': 0.03,\n",
    "\n",
    "                'aae_num_discriminator_layers': 4,\n",
    "                'aae_discr_coeff': 0.01,\n",
    "\n",
    "                'wgan_num_discr_inter': 6,\n",
    "                'wgan_lambda_gp': 10.,\n",
    "                'wgan_discr_coeff': 0.01,\n",
    "                'wgan_num_mols_energy': 32,\n",
    "\n",
    "                'num_warmup_iteration': 400,\n",
    "                \n",
    "                'use_wgan_part': True,\n",
    "                'ae_part_type': 'aae'\n",
    "               }"
   ]
  },
  {
   "cell_type": "code",
   "execution_count": null,
   "id": "drawn-matthew",
   "metadata": {},
   "outputs": [],
   "source": [
    "model = COSMIC(conditions='none', **model_params)"
   ]
  },
  {
   "cell_type": "code",
   "execution_count": null,
   "id": "sticky-wallpaper",
   "metadata": {},
   "outputs": [],
   "source": [
    "weights = torch.load(\"../saved_models/cosmic_qm9.ckpt\", map_location=device)"
   ]
  },
  {
   "cell_type": "code",
   "execution_count": null,
   "id": "dimensional-basis",
   "metadata": {},
   "outputs": [],
   "source": [
    "model.load_state_dict({k.replace('model.', ''):weights['state_dict'][k] for k in weights['state_dict'].keys()})\n",
    "model = model.to(device)\n",
    "model.eval();"
   ]
  },
  {
   "cell_type": "code",
   "execution_count": null,
   "id": "latter-siemens",
   "metadata": {},
   "outputs": [],
   "source": [
    "import tqdm\n",
    "from rdkit import Chem\n",
    "\n",
    "num_samples = 50\n",
    "sampled_confs = []\n",
    "\n",
    "for i, batch in enumerate(tqdm.tqdm(dl)):\n",
    "    batch = batch.to(device)\n",
    "    for _ in range(num_samples):\n",
    "        with torch.no_grad():\n",
    "            nodes_out = model.sample(batch)\n",
    "\n",
    "        add_prop(batch, 'cartesian_pred', nodes_out)\n",
    "\n",
    "        for i, d in enumerate(batch.to_data_list()):\n",
    "            sampled_confs.append(Chem.AddHs(set_conformer(d.mol, d.cartesian_pred), addCoords=True))"
   ]
  },
  {
   "cell_type": "code",
   "execution_count": null,
   "id": "narrative-laptop",
   "metadata": {},
   "outputs": [],
   "source": [
    "from rdkit import Chem\n",
    "Chem.Draw.MolsToGridImage(sampled_confs[:48], molsPerRow=8)"
   ]
  },
  {
   "cell_type": "code",
   "execution_count": null,
   "id": "cardiovascular-antique",
   "metadata": {},
   "outputs": [],
   "source": [
    "import tqdm\n",
    "\n",
    "wr = Chem.SDWriter('./sampled_sdf/cosmic_qm9.sdf')\n",
    "\n",
    "for m in tqdm.tqdm(sampled_confs):\n",
    "    wr.write(m)\n",
    "wr.flush()\n",
    "wr.close()"
   ]
  },
  {
   "cell_type": "code",
   "execution_count": null,
   "id": "sensitive-reality",
   "metadata": {},
   "outputs": [],
   "source": []
  }
 ],
 "metadata": {
  "kernelspec": {
   "display_name": "Python 3",
   "language": "python",
   "name": "python3"
  },
  "language_info": {
   "codemirror_mode": {
    "name": "ipython",
    "version": 3
   },
   "file_extension": ".py",
   "mimetype": "text/x-python",
   "name": "python",
   "nbconvert_exporter": "python",
   "pygments_lexer": "ipython3",
   "version": "3.7.5"
  }
 },
 "nbformat": 4,
 "nbformat_minor": 5
}
