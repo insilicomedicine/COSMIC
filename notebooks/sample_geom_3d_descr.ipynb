{
 "cells": [
  {
   "cell_type": "code",
   "execution_count": null,
   "id": "disabled-effort",
   "metadata": {},
   "outputs": [],
   "source": [
    "import sys\n",
    "sys.path.append('..')\n",
    "import os"
   ]
  },
  {
   "cell_type": "code",
   "execution_count": null,
   "id": "offensive-invite",
   "metadata": {},
   "outputs": [],
   "source": [
    "from energy_minimization.data import ConfDataset\n",
    "from energy_minimization.utils.utils import (add_prop, compute_alligment,\n",
    "                                             get_energy, set_conformer,\n",
    "                                             compute_desciptors3d)"
   ]
  },
  {
   "cell_type": "code",
   "execution_count": null,
   "id": "upset-chart",
   "metadata": {},
   "outputs": [],
   "source": [
    "from energy_minimization.models import COSMIC"
   ]
  },
  {
   "cell_type": "code",
   "execution_count": null,
   "id": "28d4b1de-16b2-4124-88c3-632d6f86ca8f",
   "metadata": {},
   "outputs": [],
   "source": [
    "path_to_data = '/path/to/data'"
   ]
  },
  {
   "cell_type": "code",
   "execution_count": null,
   "id": "8264fa25-6f72-438b-94c5-290713e1a489",
   "metadata": {},
   "outputs": [],
   "source": [
    "import torch\n",
    "from torch_geometric.data import DataLoader, Batch\n",
    "\n",
    "dl = DataLoader(\n",
    "        ConfDataset(path_to_data,\n",
    "                    os.path.join(path_to_data, 'summary_preprocessed.json'),\n",
    "                    split='test',\n",
    "                    conditions='descriptors3d',\n",
    "                    task_type='distr_learn'),\n",
    "        batch_size=128, num_workers=4)"
   ]
  },
  {
   "cell_type": "code",
   "execution_count": null,
   "id": "southwest-oxygen",
   "metadata": {},
   "outputs": [],
   "source": [
    "device = 'cpu'"
   ]
  },
  {
   "cell_type": "code",
   "execution_count": null,
   "id": "cc27d5cc-39a5-4da0-99b0-de481093ea37",
   "metadata": {},
   "outputs": [],
   "source": [
    "model_params = {'latent_size': 3,\n",
    "                'node_hidden_size': 128,\n",
    "                'edge_hidden_size': 64,\n",
    "                'num_gaussians': 64,\n",
    "                'num_backbone_layers': 4,\n",
    "                'num_main_layers': 6,\n",
    "                'num_refiner_steps': 10,\n",
    "                'lambda_cosloss': 0.5,\n",
    "                'lambda_mxloss': 1.0,\n",
    "                'wgan_energy_loss_coeff': 0.1,\n",
    "                'ae_num_encoder_layers': 4,\n",
    "\n",
    "                'vae_kl_beta': 0.03,\n",
    "\n",
    "                'aae_num_discriminator_layers': 4,\n",
    "                'aae_discr_coeff': 0.01,\n",
    "\n",
    "                'wgan_num_discr_inter': 6,\n",
    "                'wgan_lambda_gp': 10.,\n",
    "                'wgan_discr_coeff': 0.01,\n",
    "                'wgan_num_mols_energy': 32,\n",
    "\n",
    "                'num_warmup_iteration': 400,\n",
    "                \n",
    "                'use_wgan_part': True,\n",
    "                'ae_part_type': 'aae'\n",
    "               }"
   ]
  },
  {
   "cell_type": "code",
   "execution_count": null,
   "id": "exceptional-friendship",
   "metadata": {},
   "outputs": [],
   "source": [
    "model = COSMIC(conditions='descriptors3d', **model_params)"
   ]
  },
  {
   "cell_type": "code",
   "execution_count": null,
   "id": "arranged-expense",
   "metadata": {},
   "outputs": [],
   "source": [
    "weights = torch.load('../saved_models/cosmic_drugs_conditions.ckpt', map_location=device)"
   ]
  },
  {
   "cell_type": "code",
   "execution_count": null,
   "id": "egyptian-escape",
   "metadata": {},
   "outputs": [],
   "source": [
    "model.load_state_dict({k.replace('model.', ''):weights['state_dict'][k] for k in weights['state_dict'].keys()})\n",
    "model.eval()\n",
    "model.to(device);"
   ]
  },
  {
   "cell_type": "code",
   "execution_count": null,
   "id": "buried-minutes",
   "metadata": {},
   "outputs": [],
   "source": [
    "import tqdm\n",
    "from rdkit import Chem\n",
    "\n",
    "num_samples = 1\n",
    "sampled_confs = []\n",
    "\n",
    "for i, batch in enumerate(tqdm.tqdm(dl)):\n",
    "    batch = batch.to(device)\n",
    "    for _ in range(num_samples):\n",
    "        with torch.no_grad():\n",
    "            nodes_out = model.sample(batch)\n",
    "\n",
    "        add_prop(batch, 'cartesian_pred', nodes_out)\n",
    "\n",
    "        for d in batch.to_data_list():\n",
    "            sampled_confs.append((Chem.AddHs(set_conformer(d.mol, d.cartesian_pred), addCoords=True), d.conditions[0, :].cpu().detach().numpy()))"
   ]
  },
  {
   "cell_type": "code",
   "execution_count": null,
   "id": "sweet-cincinnati",
   "metadata": {},
   "outputs": [],
   "source": [
    "from rdkit import Chem\n",
    "Chem.Draw.MolsToGridImage([p[0] for p in sampled_confs[:48]], molsPerRow=8)"
   ]
  },
  {
   "cell_type": "code",
   "execution_count": null,
   "id": "radical-protection",
   "metadata": {},
   "outputs": [],
   "source": [
    "import tqdm\n",
    "\n",
    "wr = Chem.SDWriter('./sampled_sdf/cosmic_geom_descr3d.sdf')\n",
    "wr.SetProps([f'descr{i+1}' for i in range(119)])\n",
    "\n",
    "for m, p in sampled_confs:\n",
    "    for i, v in enumerate(p):\n",
    "        m.SetDoubleProp(f'descr{i+1}', float(v))\n",
    "    wr.write(m)\n",
    "wr.flush()\n",
    "wr.close()"
   ]
  }
 ],
 "metadata": {
  "kernelspec": {
   "display_name": "Python 3",
   "language": "python",
   "name": "python3"
  },
  "language_info": {
   "codemirror_mode": {
    "name": "ipython",
    "version": 3
   },
   "file_extension": ".py",
   "mimetype": "text/x-python",
   "name": "python",
   "nbconvert_exporter": "python",
   "pygments_lexer": "ipython3",
   "version": "3.7.5"
  }
 },
 "nbformat": 4,
 "nbformat_minor": 5
}
