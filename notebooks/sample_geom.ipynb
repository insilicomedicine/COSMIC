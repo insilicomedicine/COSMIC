{
 "cells": [
  {
   "cell_type": "code",
   "execution_count": null,
   "id": "union-monkey",
   "metadata": {},
   "outputs": [],
   "source": [
    "import sys\n",
    "sys.path.append('..')\n",
    "import os\n",
    "import numpy as np"
   ]
  },
  {
   "cell_type": "code",
   "execution_count": null,
   "id": "specified-mount",
   "metadata": {},
   "outputs": [],
   "source": [
    "from energy_minimization.data import ConfDataset\n",
    "from energy_minimization.utils import (add_prop, compute_alligment,\n",
    "                                             get_energy, set_conformer,\n",
    "                                             compute_desciptors3d)"
   ]
  },
  {
   "cell_type": "code",
   "execution_count": null,
   "id": "0da8df2b-e0dd-48c2-8ace-f70667599089",
   "metadata": {},
   "outputs": [],
   "source": [
    "from rdkit import Chem\n",
    "from rdkit.Chem import SDMolSupplier\n",
    "import torch\n",
    "from rdkit.Chem import rdMolTransforms, rdMolDescriptors"
   ]
  },
  {
   "cell_type": "code",
   "execution_count": null,
   "id": "younger-community",
   "metadata": {},
   "outputs": [],
   "source": [
    "from energy_minimization.models.cosmic import COSMIC"
   ]
  },
  {
   "cell_type": "code",
   "execution_count": null,
   "id": "skilled-biology",
   "metadata": {},
   "outputs": [],
   "source": [
    "path_to_data = '/path/to/data'"
   ]
  },
  {
   "cell_type": "code",
   "execution_count": null,
   "id": "emotional-danger",
   "metadata": {},
   "outputs": [],
   "source": [
    "import torch\n",
    "from torch_geometric.data import DataLoader, Batch\n",
    "\n",
    "dl = DataLoader(\n",
    "        ConfDataset(path_to_data,\n",
    "                    os.path.join(path_to_data, 'summary_preprocessed.json'),\n",
    "                    split='test',\n",
    "                    conditions='none',\n",
    "                    task_type='argmin'),\n",
    "        batch_size=128, num_workers=4)"
   ]
  },
  {
   "cell_type": "code",
   "execution_count": null,
   "id": "gorgeous-traveler",
   "metadata": {},
   "outputs": [],
   "source": [
    "device = 'cpu'"
   ]
  },
  {
   "cell_type": "code",
   "execution_count": null,
   "id": "695046d3-8928-4c05-ac7b-55c5bbee5ef7",
   "metadata": {},
   "outputs": [],
   "source": [
    "model_params = {'latent_size': 3,\n",
    "                'node_hidden_size': 128,\n",
    "                'edge_hidden_size': 64,\n",
    "                'num_gaussians': 64,\n",
    "                'num_backbone_layers': 4,\n",
    "                'num_main_layers': 6,\n",
    "                'lambda_cosloss': 0.5,\n",
    "                'lambda_mxloss': 1.0,\n",
    "                'wgan_energy_loss_coeff': 0.1,\n",
    "                'ae_num_encoder_layers': 4,\n",
    "\n",
    "                'vae_kl_beta': 0.03,\n",
    "\n",
    "                'aae_num_discriminator_layers': 4,\n",
    "                'aae_discr_coeff': 0.01,\n",
    "\n",
    "                'wgan_num_discr_inter': 6,\n",
    "                'wgan_lambda_gp': 10.,\n",
    "                'wgan_discr_coeff': 0.01,\n",
    "                'wgan_num_mols_energy': 32,\n",
    "\n",
    "                'num_warmup_iteration': 400,\n",
    "                \n",
    "                'use_wgan_part': True,\n",
    "                'ae_part_type': 'aae',\n",
    "                \n",
    "                \n",
    "                'num_refiner_steps': 10,\n",
    "               }"
   ]
  },
  {
   "cell_type": "code",
   "execution_count": null,
   "id": "backed-census",
   "metadata": {},
   "outputs": [],
   "source": [
    "model = COSMIC(conditions='none', **model_params)"
   ]
  },
  {
   "cell_type": "code",
   "execution_count": null,
   "id": "acute-recovery",
   "metadata": {},
   "outputs": [],
   "source": [
    "weights = torch.load('../saved_models/cosmic_drugs.ckpt', map_location=device)"
   ]
  },
  {
   "cell_type": "code",
   "execution_count": null,
   "id": "accessory-orlando",
   "metadata": {},
   "outputs": [],
   "source": [
    "model.load_state_dict({k.replace('model.', ''):weights['state_dict'][k] for k in weights['state_dict'].keys()})"
   ]
  },
  {
   "cell_type": "code",
   "execution_count": null,
   "id": "651da984-9e77-4784-b0fa-5cb793e17ad3",
   "metadata": {},
   "outputs": [],
   "source": [
    "model = model.to(device)\n",
    "model.eval();"
   ]
  },
  {
   "cell_type": "code",
   "execution_count": null,
   "id": "enhanced-inspector",
   "metadata": {},
   "outputs": [],
   "source": [
    "import tqdm\n",
    "from rdkit import Chem\n",
    "\n",
    "num_samples = 50\n",
    "sampled_confs = []\n",
    "\n",
    "for i, batch in enumerate(tqdm.tqdm(dl)):\n",
    "    batch = batch.to(device)\n",
    "    for _ in range(num_samples):\n",
    "        with torch.no_grad():\n",
    "            nodes_out = model.sample(batch)\n",
    "\n",
    "        add_prop(batch, 'cartesian_pred', nodes_out)\n",
    "\n",
    "        for i, d in enumerate(batch.to_data_list()):\n",
    "            sampled_confs.append(Chem.AddHs(set_conformer(d.mol, d.cartesian_pred), addCoords=True))"
   ]
  },
  {
   "cell_type": "code",
   "execution_count": null,
   "id": "outside-aquarium",
   "metadata": {},
   "outputs": [],
   "source": [
    "from rdkit import Chem\n",
    "Chem.Draw.MolsToGridImage(sampled_confs[:48], molsPerRow=8)"
   ]
  },
  {
   "cell_type": "code",
   "execution_count": null,
   "id": "4c2aeb99-f341-42c7-a565-1e965e3872b9",
   "metadata": {},
   "outputs": [],
   "source": [
    "!mkdir sampled_sdf/ablation_drugs/"
   ]
  },
  {
   "cell_type": "code",
   "execution_count": null,
   "id": "selective-independence",
   "metadata": {},
   "outputs": [],
   "source": [
    "import tqdm\n",
    "\n",
    "wr = Chem.SDWriter('./sampled_sdf/ablation_drugs/cosmic_noenergy_loss.sdf')\n",
    "\n",
    "for m in tqdm.tqdm(sampled_confs):\n",
    "    wr.write(m)\n",
    "wr.flush()\n",
    "wr.close()"
   ]
  },
  {
   "cell_type": "code",
   "execution_count": null,
   "id": "relative-manor",
   "metadata": {},
   "outputs": [],
   "source": []
  }
 ],
 "metadata": {
  "kernelspec": {
   "display_name": "Python 3",
   "language": "python",
   "name": "python3"
  },
  "language_info": {
   "codemirror_mode": {
    "name": "ipython",
    "version": 3
   },
   "file_extension": ".py",
   "mimetype": "text/x-python",
   "name": "python",
   "nbconvert_exporter": "python",
   "pygments_lexer": "ipython3",
   "version": "3.7.5"
  }
 },
 "nbformat": 4,
 "nbformat_minor": 5
}
